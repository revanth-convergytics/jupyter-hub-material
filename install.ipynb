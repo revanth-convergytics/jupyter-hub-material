{
 "cells": [
  {
   "cell_type": "code",
   "execution_count": 1,
   "id": "interpreted-beaver",
   "metadata": {},
   "outputs": [
    {
     "name": "stdout",
     "output_type": "stream",
     "text": [
      "Collecting pyodbc\n",
      "  Using cached pyodbc-4.0.30.tar.gz (266 kB)\n",
      "Building wheels for collected packages: pyodbc\n",
      "  Building wheel for pyodbc (setup.py) ... \u001b[?25ldone\n",
      "\u001b[?25h  Created wheel for pyodbc: filename=pyodbc-4.0.30-cp37-cp37m-linux_x86_64.whl size=301447 sha256=db6f61a1326208a905d30328d0a56b3c2bbcad9f0b1c1b4f429c94007dab1811\n",
      "  Stored in directory: /home/jupyter-shubhika/.cache/pip/wheels/9f/67/8c/ae3f1fd5ba2c4e6548e5a92439fc3c4c3867f2143582574719\n",
      "Successfully built pyodbc\n",
      "Installing collected packages: pyodbc\n",
      "Successfully installed pyodbc-4.0.30\n"
     ]
    }
   ],
   "source": [
    "!pip3 install --user pyodbc"
   ]
  },
  {
   "cell_type": "code",
   "execution_count": 3,
   "id": "affiliated-disclosure",
   "metadata": {},
   "outputs": [
    {
     "name": "stdout",
     "output_type": "stream",
     "text": [
      "Defaulting to user installation because normal site-packages is not writeable\n",
      "Collecting scikit-learn\n",
      "  Downloading scikit_learn-0.24.1-cp37-cp37m-manylinux2010_x86_64.whl (22.3 MB)\n",
      "\u001b[K     |████████████████████████████████| 22.3 MB 81 kB/s  eta 0:00:01\n",
      "\u001b[?25hCollecting scipy>=0.19.1\n",
      "  Downloading scipy-1.6.1-cp37-cp37m-manylinux1_x86_64.whl (27.4 MB)\n",
      "\u001b[K     |████████████████████████████████| 27.4 MB 33 kB/s s eta 0:00:01\n",
      "\u001b[?25hCollecting threadpoolctl>=2.0.0\n",
      "  Downloading threadpoolctl-2.1.0-py3-none-any.whl (12 kB)\n",
      "Collecting joblib>=0.11\n",
      "  Downloading joblib-1.0.1-py3-none-any.whl (303 kB)\n",
      "\u001b[K     |████████████████████████████████| 303 kB 60.1 MB/s eta 0:00:01\n",
      "\u001b[?25hRequirement already satisfied: numpy>=1.13.3 in /opt/tljh/user/lib/python3.7/site-packages (from scikit-learn) (1.19.2)\n",
      "Installing collected packages: threadpoolctl, scipy, joblib, scikit-learn\n",
      "Successfully installed joblib-1.0.1 scikit-learn-0.24.1 scipy-1.6.1 threadpoolctl-2.1.0\n"
     ]
    }
   ],
   "source": [
    "!pip install -U scikit-learn"
   ]
  },
  {
   "cell_type": "code",
   "execution_count": 2,
   "id": "necessary-finance",
   "metadata": {},
   "outputs": [
    {
     "name": "stdout",
     "output_type": "stream",
     "text": [
      "Defaulting to user installation because normal site-packages is not writeable\n",
      "Requirement already satisfied: SQLAlchemy in /opt/tljh/user/lib/python3.7/site-packages (1.3.23)\n"
     ]
    }
   ],
   "source": [
    "!pip install SQLAlchemy"
   ]
  },
  {
   "cell_type": "code",
   "execution_count": 4,
   "id": "double-subsection",
   "metadata": {},
   "outputs": [
    {
     "data": {
      "text/plain": [
       "'1.3.23'"
      ]
     },
     "execution_count": 4,
     "metadata": {},
     "output_type": "execute_result"
    }
   ],
   "source": [
    "import sqlalchemy\n",
    "sqlalchemy.__version__ "
   ]
  },
  {
   "cell_type": "code",
   "execution_count": 6,
   "id": "timely-record",
   "metadata": {},
   "outputs": [
    {
     "name": "stdout",
     "output_type": "stream",
     "text": [
      "Requirement already satisfied: numpy in /opt/tljh/user/lib/python3.7/site-packages (1.19.2)\r\n"
     ]
    }
   ],
   "source": [
    "!pip install --user numpy"
   ]
  },
  {
   "cell_type": "code",
   "execution_count": 7,
   "id": "alpha-shell",
   "metadata": {},
   "outputs": [
    {
     "name": "stdout",
     "output_type": "stream",
     "text": [
      "Requirement already satisfied: numpy in /opt/tljh/user/lib/python3.7/site-packages (1.19.2)\n",
      "Requirement already satisfied: scipy in ./.local/lib/python3.7/site-packages (1.6.1)\n",
      "Collecting matplotlib\n",
      "  Downloading matplotlib-3.3.4-cp37-cp37m-manylinux1_x86_64.whl (11.5 MB)\n",
      "\u001b[K     |████████████████████████████████| 11.5 MB 16.8 MB/s eta 0:00:01\n",
      "\u001b[?25hCollecting kiwisolver>=1.0.1\n",
      "  Downloading kiwisolver-1.3.1-cp37-cp37m-manylinux1_x86_64.whl (1.1 MB)\n",
      "\u001b[K     |████████████████████████████████| 1.1 MB 57.0 MB/s eta 0:00:01\n",
      "\u001b[?25hCollecting pillow>=6.2.0\n",
      "  Downloading Pillow-8.1.0-cp37-cp37m-manylinux1_x86_64.whl (2.2 MB)\n",
      "\u001b[K     |████████████████████████████████| 2.2 MB 65.9 MB/s eta 0:00:01\n",
      "\u001b[?25hCollecting cycler>=0.10\n",
      "  Downloading cycler-0.10.0-py2.py3-none-any.whl (6.5 kB)\n",
      "Requirement already satisfied: pyparsing!=2.0.4,!=2.1.2,!=2.1.6,>=2.0.3 in /opt/tljh/user/lib/python3.7/site-packages (from matplotlib) (2.4.7)\n",
      "Requirement already satisfied: python-dateutil>=2.1 in /opt/tljh/user/lib/python3.7/site-packages (from matplotlib) (2.8.1)\n",
      "Requirement already satisfied: six in /opt/tljh/user/lib/python3.7/site-packages (from cycler>=0.10->matplotlib) (1.15.0)\n",
      "Installing collected packages: pillow, kiwisolver, cycler, matplotlib\n",
      "Successfully installed cycler-0.10.0 kiwisolver-1.3.1 matplotlib-3.3.4 pillow-8.1.0\n"
     ]
    }
   ],
   "source": [
    "!pip install --user numpy scipy matplotlib"
   ]
  },
  {
   "cell_type": "code",
   "execution_count": 9,
   "id": "tender-egypt",
   "metadata": {},
   "outputs": [
    {
     "name": "stdout",
     "output_type": "stream",
     "text": [
      "Requirement already satisfied: tensorflow-cpu in ./.local/lib/python3.7/site-packages (2.4.1)\n",
      "Requirement already satisfied: numpy~=1.19.2 in /opt/tljh/user/lib/python3.7/site-packages (from tensorflow-cpu) (1.19.2)\n",
      "Requirement already satisfied: opt-einsum~=3.3.0 in ./.local/lib/python3.7/site-packages (from tensorflow-cpu) (3.3.0)\n",
      "Requirement already satisfied: google-pasta~=0.2 in ./.local/lib/python3.7/site-packages (from tensorflow-cpu) (0.2.0)\n",
      "Requirement already satisfied: protobuf>=3.9.2 in ./.local/lib/python3.7/site-packages (from tensorflow-cpu) (3.15.2)\n",
      "Requirement already satisfied: typing-extensions~=3.7.4 in /opt/tljh/user/lib/python3.7/site-packages (from tensorflow-cpu) (3.7.4.3)\n",
      "Requirement already satisfied: six~=1.15.0 in /opt/tljh/user/lib/python3.7/site-packages (from tensorflow-cpu) (1.15.0)\n",
      "Requirement already satisfied: gast==0.3.3 in ./.local/lib/python3.7/site-packages (from tensorflow-cpu) (0.3.3)\n",
      "Requirement already satisfied: grpcio~=1.32.0 in ./.local/lib/python3.7/site-packages (from tensorflow-cpu) (1.32.0)\n",
      "Requirement already satisfied: astunparse~=1.6.3 in ./.local/lib/python3.7/site-packages (from tensorflow-cpu) (1.6.3)\n",
      "Requirement already satisfied: termcolor~=1.1.0 in ./.local/lib/python3.7/site-packages (from tensorflow-cpu) (1.1.0)\n",
      "Requirement already satisfied: wrapt~=1.12.1 in ./.local/lib/python3.7/site-packages (from tensorflow-cpu) (1.12.1)\n",
      "Requirement already satisfied: flatbuffers~=1.12.0 in ./.local/lib/python3.7/site-packages (from tensorflow-cpu) (1.12)\n",
      "Requirement already satisfied: absl-py~=0.10 in ./.local/lib/python3.7/site-packages (from tensorflow-cpu) (0.11.0)\n",
      "Requirement already satisfied: wheel~=0.35 in /opt/tljh/user/lib/python3.7/site-packages (from tensorflow-cpu) (0.36.2)\n",
      "Requirement already satisfied: tensorboard~=2.4 in ./.local/lib/python3.7/site-packages (from tensorflow-cpu) (2.4.1)\n",
      "Requirement already satisfied: keras-preprocessing~=1.1.2 in ./.local/lib/python3.7/site-packages (from tensorflow-cpu) (1.1.2)\n",
      "Requirement already satisfied: h5py~=2.10.0 in ./.local/lib/python3.7/site-packages (from tensorflow-cpu) (2.10.0)\n",
      "Requirement already satisfied: tensorflow-estimator<2.5.0,>=2.4.0 in ./.local/lib/python3.7/site-packages (from tensorflow-cpu) (2.4.0)\n",
      "Requirement already satisfied: requests<3,>=2.21.0 in /opt/tljh/user/lib/python3.7/site-packages (from tensorboard~=2.4->tensorflow-cpu) (2.25.1)\n",
      "Requirement already satisfied: tensorboard-plugin-wit>=1.6.0 in ./.local/lib/python3.7/site-packages (from tensorboard~=2.4->tensorflow-cpu) (1.8.0)\n",
      "Requirement already satisfied: google-auth-oauthlib<0.5,>=0.4.1 in ./.local/lib/python3.7/site-packages (from tensorboard~=2.4->tensorflow-cpu) (0.4.2)\n",
      "Requirement already satisfied: setuptools>=41.0.0 in /opt/tljh/user/lib/python3.7/site-packages (from tensorboard~=2.4->tensorflow-cpu) (52.0.0.post20210125)\n",
      "Requirement already satisfied: markdown>=2.6.8 in ./.local/lib/python3.7/site-packages (from tensorboard~=2.4->tensorflow-cpu) (3.3.4)\n",
      "Requirement already satisfied: google-auth<2,>=1.6.3 in ./.local/lib/python3.7/site-packages (from tensorboard~=2.4->tensorflow-cpu) (1.27.0)\n",
      "Requirement already satisfied: werkzeug>=0.11.15 in ./.local/lib/python3.7/site-packages (from tensorboard~=2.4->tensorflow-cpu) (1.0.1)\n",
      "Requirement already satisfied: cachetools<5.0,>=2.0.0 in ./.local/lib/python3.7/site-packages (from google-auth<2,>=1.6.3->tensorboard~=2.4->tensorflow-cpu) (4.2.1)\n",
      "Requirement already satisfied: rsa<5,>=3.1.4 in ./.local/lib/python3.7/site-packages (from google-auth<2,>=1.6.3->tensorboard~=2.4->tensorflow-cpu) (4.7.2)\n",
      "Requirement already satisfied: pyasn1-modules>=0.2.1 in ./.local/lib/python3.7/site-packages (from google-auth<2,>=1.6.3->tensorboard~=2.4->tensorflow-cpu) (0.2.8)\n",
      "Requirement already satisfied: requests-oauthlib>=0.7.0 in ./.local/lib/python3.7/site-packages (from google-auth-oauthlib<0.5,>=0.4.1->tensorboard~=2.4->tensorflow-cpu) (1.3.0)\n",
      "Requirement already satisfied: importlib-metadata in /opt/tljh/user/lib/python3.7/site-packages (from markdown>=2.6.8->tensorboard~=2.4->tensorflow-cpu) (3.4.0)\n",
      "Requirement already satisfied: pyasn1<0.5.0,>=0.4.6 in /opt/tljh/user/lib/python3.7/site-packages (from pyasn1-modules>=0.2.1->google-auth<2,>=1.6.3->tensorboard~=2.4->tensorflow-cpu) (0.4.8)\n",
      "Requirement already satisfied: urllib3<1.27,>=1.21.1 in /opt/tljh/user/lib/python3.7/site-packages (from requests<3,>=2.21.0->tensorboard~=2.4->tensorflow-cpu) (1.26.3)\n",
      "Requirement already satisfied: idna<3,>=2.5 in /opt/tljh/user/lib/python3.7/site-packages (from requests<3,>=2.21.0->tensorboard~=2.4->tensorflow-cpu) (2.10)\n",
      "Requirement already satisfied: certifi>=2017.4.17 in /opt/tljh/user/lib/python3.7/site-packages (from requests<3,>=2.21.0->tensorboard~=2.4->tensorflow-cpu) (2020.12.5)\n",
      "Requirement already satisfied: chardet<5,>=3.0.2 in /opt/tljh/user/lib/python3.7/site-packages (from requests<3,>=2.21.0->tensorboard~=2.4->tensorflow-cpu) (4.0.0)\n",
      "Requirement already satisfied: oauthlib>=3.0.0 in /opt/tljh/user/lib/python3.7/site-packages (from requests-oauthlib>=0.7.0->google-auth-oauthlib<0.5,>=0.4.1->tensorboard~=2.4->tensorflow-cpu) (3.1.0)\n",
      "Requirement already satisfied: zipp>=0.5 in /opt/tljh/user/lib/python3.7/site-packages (from importlib-metadata->markdown>=2.6.8->tensorboard~=2.4->tensorflow-cpu) (3.4.0)\n"
     ]
    }
   ],
   "source": [
    "!pip install --user tensorflow-cpu"
   ]
  },
  {
   "cell_type": "code",
   "execution_count": 11,
   "id": "personalized-title",
   "metadata": {},
   "outputs": [
    {
     "name": "stdout",
     "output_type": "stream",
     "text": [
      "Defaulting to user installation because normal site-packages is not writeable\n",
      "Looking in links: https://download.pytorch.org/whl/torch_stable.html\n",
      "Requirement already satisfied: torch==1.7.1+cpu in ./.local/lib/python3.7/site-packages (1.7.1+cpu)\n",
      "Requirement already satisfied: torchvision==0.8.2+cpu in ./.local/lib/python3.7/site-packages (0.8.2+cpu)\n",
      "Requirement already satisfied: torchaudio==0.7.2 in ./.local/lib/python3.7/site-packages (0.7.2)\n",
      "Requirement already satisfied: typing-extensions in /opt/tljh/user/lib/python3.7/site-packages (from torch==1.7.1+cpu) (3.7.4.3)\n",
      "Requirement already satisfied: numpy in /opt/tljh/user/lib/python3.7/site-packages (from torch==1.7.1+cpu) (1.19.2)\n",
      "Requirement already satisfied: pillow>=4.1.1 in ./.local/lib/python3.7/site-packages (from torchvision==0.8.2+cpu) (8.1.0)\n",
      "Note: you may need to restart the kernel to use updated packages.\n"
     ]
    }
   ],
   "source": [
    "pip install torch==1.7.1+cpu torchvision==0.8.2+cpu torchaudio==0.7.2 -f https://download.pytorch.org/whl/torch_stable.html"
   ]
  },
  {
   "cell_type": "code",
   "execution_count": 13,
   "id": "light-stationery",
   "metadata": {},
   "outputs": [
    {
     "name": "stdout",
     "output_type": "stream",
     "text": [
      "Defaulting to user installation because normal site-packages is not writeable\n",
      "Collecting seaborn\n",
      "  Downloading seaborn-0.11.1-py3-none-any.whl (285 kB)\n",
      "\u001b[K     |████████████████████████████████| 285 kB 7.7 MB/s eta 0:00:01\n",
      "\u001b[?25hCollecting plotly\n",
      "  Downloading plotly-4.14.3-py2.py3-none-any.whl (13.2 MB)\n",
      "\u001b[K     |████████████████████████████████| 13.2 MB 14.0 MB/s eta 0:00:01    |███████                         | 2.9 MB 14.0 MB/s eta 0:00:01\n",
      "\u001b[?25hCollecting retrying>=1.3.3\n",
      "  Downloading retrying-1.3.3.tar.gz (10 kB)\n",
      "Requirement already satisfied: six in /opt/tljh/user/lib/python3.7/site-packages (from plotly) (1.15.0)\n",
      "Requirement already satisfied: scipy>=1.0 in ./.local/lib/python3.7/site-packages (from seaborn) (1.6.1)\n",
      "Requirement already satisfied: pandas>=0.23 in /opt/tljh/user/lib/python3.7/site-packages (from seaborn) (1.2.2)\n",
      "Requirement already satisfied: matplotlib>=2.2 in ./.local/lib/python3.7/site-packages (from seaborn) (3.3.4)\n",
      "Requirement already satisfied: numpy>=1.15 in /opt/tljh/user/lib/python3.7/site-packages (from seaborn) (1.19.2)\n",
      "Requirement already satisfied: pyparsing!=2.0.4,!=2.1.2,!=2.1.6,>=2.0.3 in /opt/tljh/user/lib/python3.7/site-packages (from matplotlib>=2.2->seaborn) (2.4.7)\n",
      "Requirement already satisfied: cycler>=0.10 in ./.local/lib/python3.7/site-packages (from matplotlib>=2.2->seaborn) (0.10.0)\n",
      "Requirement already satisfied: python-dateutil>=2.1 in /opt/tljh/user/lib/python3.7/site-packages (from matplotlib>=2.2->seaborn) (2.8.1)\n",
      "Requirement already satisfied: kiwisolver>=1.0.1 in ./.local/lib/python3.7/site-packages (from matplotlib>=2.2->seaborn) (1.3.1)\n",
      "Requirement already satisfied: pillow>=6.2.0 in ./.local/lib/python3.7/site-packages (from matplotlib>=2.2->seaborn) (8.1.0)\n",
      "Requirement already satisfied: pytz>=2017.3 in /opt/tljh/user/lib/python3.7/site-packages (from pandas>=0.23->seaborn) (2021.1)\n",
      "Building wheels for collected packages: retrying\n",
      "  Building wheel for retrying (setup.py) ... \u001b[?25ldone\n",
      "\u001b[?25h  Created wheel for retrying: filename=retrying-1.3.3-py3-none-any.whl size=11429 sha256=142fc9c76ef09b8f98a913d78a6d1c5d844b7927218f722f98246cd4b2f84b68\n",
      "  Stored in directory: /home/jupyter-shubhika/.cache/pip/wheels/f9/8d/8d/f6af3f7f9eea3553bc2fe6d53e4b287dad18b06a861ac56ddf\n",
      "Successfully built retrying\n",
      "Installing collected packages: retrying, seaborn, plotly\n",
      "Successfully installed plotly-4.14.3 retrying-1.3.3 seaborn-0.11.1\n"
     ]
    }
   ],
   "source": [
    "!pip install seaborn plotly"
   ]
  }
 ],
 "metadata": {
  "kernelspec": {
   "display_name": "Python 3",
   "language": "python",
   "name": "python3"
  },
  "language_info": {
   "codemirror_mode": {
    "name": "ipython",
    "version": 3
   },
   "file_extension": ".py",
   "mimetype": "text/x-python",
   "name": "python",
   "nbconvert_exporter": "python",
   "pygments_lexer": "ipython3",
   "version": "3.7.9"
  }
 },
 "nbformat": 4,
 "nbformat_minor": 5
}
